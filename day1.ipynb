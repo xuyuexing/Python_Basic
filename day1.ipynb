{
 "cells": [
  {
   "cell_type": "markdown",
   "metadata": {},
   "source": [
    "# 1. 环境搭建"
   ]
  },
  {
   "cell_type": "markdown",
   "metadata": {},
   "source": [
    "### 1.1 Anaconda 环境配置\n",
    "\n",
    "\n",
    "- 介绍：Anaconda是一个免费开源的Python和R语言的发行版本，用于计算科学（数据科学、机器学习、大数据处理和预测分析），Anaconda致力于简化包管理和部署。\n",
    "\n",
    "\n",
    "- 下载：\n",
    "    - [Anaconda官网](https://www.anaconda.com/)\n",
    "    - [下载地址](https://www.anaconda.com/distribution/#download-section)\n",
    "    - [安装教程](https://docs.anaconda.com/anaconda/install/)\n",
    "\n",
    "\n",
    "### 1.2 编译器"
   ]
  },
  {
   "cell_type": "markdown",
   "metadata": {},
   "source": [
    "# 2. Python初体验"
   ]
  },
  {
   "cell_type": "markdown",
   "metadata": {},
   "source": [
    "### 2.1 print 和 input\n",
    "\n",
    "\n",
    "- input()：输入函数\n",
    "\n",
    "    - 让程序暂停，等待用户输入文本，待用户输入完后，将其存储在一个变量中；\n",
    "    - 默认读入字符串；\n",
    "    - 可以通过强制类型转换来将输入的格式进行转换。\n",
    "\n",
    "\n",
    "- print()：输出函数\n",
    "\n",
    "    - 在py3中为函数，在py2中为关键字。"
   ]
  },
  {
   "cell_type": "markdown",
   "metadata": {},
   "source": [
    "# 3. Python 基础讲解"
   ]
  },
  {
   "cell_type": "markdown",
   "metadata": {},
   "source": [
    "### 3.1 变量特征及命名规则\n",
    "\n",
    "\n",
    "- 变量与命名：\n",
    "\n",
    "    - 变量名只能包含字母、数字和下划线；\n",
    "    - 变量名可以字母或下划线打头，但不能以数字打头；\n",
    "    - 变量名不能包含空格，但可使用下划线来分隔其中的单词；\n",
    "    - 不要将Python关键字和函数名用作变量名，即不要使用Python保留用于特殊用途的单词，如print；\n",
    "    - 变量名应既简短又具有描述性。例如，name比n好，student_name比s_n好，name_length比length_of_persons_name好；\n",
    "    - **慎用小写字母l和大写字母O**，因为它们可能被人错看成数字1和0。\n",
    "\n",
    "\n",
    "### 3.2 注释方法\n",
    "\n",
    "\n",
    "- 单行注释：#\n",
    "\n",
    "\n",
    "- 多行注释：'''注释内容''' or \"\"\"注释内容\"\"\"   其实这也是长字符串的一种表示方法\n",
    "\n",
    "\n",
    "### 3.3 **“:”** 的作用\n",
    "\n",
    "\n",
    "- 这个是python的slice notation的特殊用法：\n",
    "    \n",
    "    **a = [0,1,2,3,4,5,6,7,8,9]**\n",
    "        \n",
    "        - b = a[i:j] 表示复制a[i]到a[j-1]，以生成新的list对象\n",
    "        - b = a[1:3] 那么，b的内容是 [1,2]\n",
    "        - 当i缺省时，默认为0，即 a[:3]相当于 a[0:3]\n",
    "        - 当j缺省时，默认为len(alist), 即a[1:]相当于a[1:10]\n",
    "        - 当i,j都缺省时，a[:]就相当于完整复制一份a了\n",
    "        - b = a[i:j:s]这种格式呢，i,j与上面的一样，但s表示步进，缺省为1，所以a[i:j:1]相当于a[i:j]\n",
    "        - 当s<0时，i缺省时，默认为-1. j缺省时，默认为-len(a)-1；所以a[::-1]相当于 a[-1:-len(a)-1:-1]，也就是从最后一个元素到第一个元素复制一遍。\n",
    "\n",
    "\n",
    "### 3.4 dir()和help()\n",
    "\n",
    "\n",
    "- dir()：py内置函数，函数不带参数时，返回当前范围内的变量、方法和定义的类型列表；带参数时，返回参数的属性、方法列表。如果参数包含方法__dir__()，该方法将被调用。如果参数不包含__dir__()，该方法将最大限度地收集参数信息。\n",
    "    用法：dir([object])\n",
    "\n",
    "\n",
    "- help()：用于查看函数或模块的详细用途说明\n",
    "\n",
    "\n",
    "### 3.5 import的作用\n",
    "\n",
    "\n",
    "- 导入包或者模块，py中不同的一点是可以在任何位置使用import导入。\n",
    "\n",
    "\n",
    "### 3.6 pep8\n",
    "\n",
    "\n",
    "- pep8是一种代码风格，为了保证不同程序员之间代码风格的最大相似性，这里不再赘述，可以自行查看[Python风格规范](https://zh-google-styleguide.readthedocs.io/en/latest/google-python-styleguide/python_style_rules/)。"
   ]
  },
  {
   "cell_type": "markdown",
   "metadata": {},
   "source": [
    "# 4. Pyhon 数值基本知识"
   ]
  },
  {
   "cell_type": "markdown",
   "metadata": {},
   "source": [
    "### 4.1 Python中的数值类型\n",
    "\n",
    "\n",
    "- 整型数据（int）\n",
    "\n",
    "\n",
    "- 浮点型数据（float）\n",
    "\n",
    "\n",
    "- 字符串类型（str）\n",
    "\n",
    "\n",
    "- 布尔值类型(bool）\n",
    "\n",
    "\n",
    "### 4.2 算数，逻辑，成员，身份，运算符优先级 \n",
    "\n",
    "\n",
    "- 参见[这里](https://www.runoob.com/python/python-operators.html#ysf1)。"
   ]
  }
 ],
 "metadata": {
  "kernelspec": {
   "display_name": "Python 3",
   "language": "python",
   "name": "python3"
  },
  "language_info": {
   "codemirror_mode": {
    "name": "ipython",
    "version": 3
   },
   "file_extension": ".py",
   "mimetype": "text/x-python",
   "name": "python",
   "nbconvert_exporter": "python",
   "pygments_lexer": "ipython3",
   "version": "3.7.3"
  }
 },
 "nbformat": 4,
 "nbformat_minor": 2
}
