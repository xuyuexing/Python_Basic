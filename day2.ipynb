{
 "cells": [
  {
   "cell_type": "markdown",
   "metadata": {},
   "source": [
    "引言：今天学习的三种数据类型（字符串/列表/元组）均可以属于**序列**这种类型（及其适用的操作）。"
   ]
  },
  {
   "cell_type": "markdown",
   "metadata": {},
   "source": [
    "# 1. string 字符串"
   ]
  },
  {
   "cell_type": "markdown",
   "metadata": {},
   "source": [
    "### 1.1 定义及基本操作(+，*，读取方式)\n",
    "\n",
    "\n",
    "- 定义：就是一系列字符。在Python中，用引号括起的都是字符串，其中的引号可以是单引号，也可以是双引号，如下所示：\n",
    "\n",
    "    - \"This is a string.\"\n",
    "    - 'This is also a string.'\n",
    "    \n",
    "\n",
    "- 读取方式：将字符存储在变量中，再输出即可。\n",
    "\n",
    "\n",
    "### 1.2 字符串相关方法\n",
    "\n",
    "\n",
    "- **修改大小写**：string.title()，title() 以首字母大写的方式显示每个单词，即将每个单词的首字母都改为大写。如："
   ]
  },
  {
   "cell_type": "code",
   "execution_count": 7,
   "metadata": {},
   "outputs": [
    {
     "name": "stdout",
     "output_type": "stream",
     "text": [
      "Ada Lovelace\n",
      "Ada Lovelace\n",
      "ADA LOVELACE\n",
      "ada lovelace\n"
     ]
    }
   ],
   "source": [
    "name = \"ada lovelace\"\n",
    "print(name.title())\n",
    "name = name.title()\n",
    "print(name)\n",
    "print(name.upper())\n",
    "print(name.lower())"
   ]
  },
  {
   "cell_type": "markdown",
   "metadata": {},
   "source": [
    "- 在print() 语句中，方法title() 出现在这个变量的后面。**方法** 是Python可对数据执行的操作。\n",
    "\n",
    "- 在name.title() 中，name 后面的句点（. ）让Python对变量name 执行方法title() 指定的操作。\n",
    "\n",
    "- 每个方法后面都跟着一对括号，这是因为方法通常需要额外的信息来完成其工作。这种信息是在括号内提供的。"
   ]
  },
  {
   "cell_type": "markdown",
   "metadata": {},
   "source": [
    "- **合并（拼接）字符串**："
   ]
  },
  {
   "cell_type": "code",
   "execution_count": 9,
   "metadata": {},
   "outputs": [
    {
     "name": "stdout",
     "output_type": "stream",
     "text": [
      "ada lovelace\n"
     ]
    }
   ],
   "source": [
    "first_name = \"ada\"\n",
    "last_name = \"lovelace\"\n",
    "full_name = first_name + \" \" + last_name\n",
    "print(full_name)"
   ]
  },
  {
   "cell_type": "markdown",
   "metadata": {},
   "source": [
    "- **使用制表符或换行符来添加空白**：要在字符串中添加制表符，可使用字符组合\\t ；要在字符串中添加换行符，可使用字符组合\\n；如:"
   ]
  },
  {
   "cell_type": "code",
   "execution_count": 11,
   "metadata": {},
   "outputs": [
    {
     "name": "stdout",
     "output_type": "stream",
     "text": [
      "Python\n",
      "\tPython\n",
      "Languages:\n",
      "Python\n",
      "C\n",
      "JavaScript\n"
     ]
    }
   ],
   "source": [
    "print(\"Python\")\n",
    "print(\"\\tPython\")\n",
    "print(\"Languages:\\nPython\\nC\\nJavaScript\")"
   ]
  },
  {
   "cell_type": "markdown",
   "metadata": {},
   "source": [
    "- **删除空白**：要确保字符串末尾没有空白，可使用方法rstrip() ；要永久删除这个字符串中的空白，必须将删除操作的结果存回到变量中；你还可以剔除字符串开头的空白，或同时剔除字符串两端的空白。为此，可分别使用方法lstrip() 和strip() ："
   ]
  },
  {
   "cell_type": "code",
   "execution_count": 18,
   "metadata": {},
   "outputs": [
    {
     "name": "stdout",
     "output_type": "stream",
     "text": [
      "python \n",
      "python \n"
     ]
    }
   ],
   "source": [
    "favorite_language = 'python '\n",
    "print(favorite_language)\n",
    "favorite_language.rstrip()\n",
    "print(favorite_language)\n",
    "favorite_language = favorite_language.rstrip()"
   ]
  },
  {
   "cell_type": "markdown",
   "metadata": {},
   "source": [
    "# 2. 列表"
   ]
  },
  {
   "cell_type": "markdown",
   "metadata": {},
   "source": [
    "### 2.1 标志\n",
    "\n",
    "\n",
    "- **列表** 由一系列按特定顺序排列的元素组成。你可以创建包含字母表中所有字母、数字0~9或所有家庭成员姓名的列表；也可以将任何东西加入列表中，其中的元素之间可以没有\n",
    "任何关系。\n",
    "\n",
    "\n",
    "### 2.2 基本操作(创建，append()，pop()，del()，拷贝)\n",
    "\n",
    "\n",
    "- 创建：在Python中，用方括号（[] ）来表示列表，并用逗号来分隔其中的元素。如：\n",
    "\n",
    "    bicycles = ['trek', 'cannondale', 'redline', 'specialized']\n",
    "    \n",
    "    \n",
    "- **append()** 添加元素：最简单的方式是将元素附加到列表末尾：\n",
    "\n",
    "    motorcycles = ['honda', 'yamaha', 'suzuki']\n",
    "\n",
    "    motorcycles.append('ducati')\n",
    "\n",
    "\n",
    "- **insert()** 添加元素至任意位置：\n",
    "\n",
    "    motorcycles = ['honda', 'yamaha', 'suzuki']\n",
    "    \n",
    "    motorcycles.insert(0, 'ducati')\n",
    "\n",
    "\n",
    "- **del** 删除元素：你可以根据位置或值来删除列表中的元素。\n",
    "\n",
    "    motorcycles = ['honda', 'yamaha', 'suzuki']\n",
    "\n",
    "    del motorcycles[0]\n",
    "    \n",
    "    \n",
    "- **pop()** 删除但能接着使用：可删除列表末尾的元素，并让你能够接着使用它。术语弹出 （pop）源自这样的类比：列表就像一个栈，而删除列表末尾的元素相当于弹出栈顶元素。\n",
    "\n",
    "    motorcycles = ['honda', 'yamaha', 'suzuki']\n",
    "\n",
    "    print(motorcycles)\n",
    "    \n",
    "    popped_motorcycle = motorcycles.pop()\n",
    "\n",
    "    print(motorcycles)\n",
    "\n",
    "    print(popped_motorcycle)\n",
    "\n",
    "\n",
    "- **remove()** 根据值删除元素：注意！！！方法remove() 只删除第一个指定的值。如果要删除的值可能在列表中出现多次，就需要使用循环来判断是否删除了所有这样的值。\n",
    "\n",
    "    motorcycles = ['honda', 'yamaha', 'suzuki', 'ducati']\n",
    "\n",
    "    motorcycles.remove('ducati')\n",
    "\n",
    "\n",
    "### 2.3列表相关方法\n",
    "\n",
    "\n",
    "- **sort()** 对列表进行永久性排序\n",
    "\n",
    "- **sorted()** 对列表进行临时排序\n",
    "\n",
    "- **reverse()** 倒着打印列表\n",
    "\n",
    "- **len()** 确定列表的长度"
   ]
  },
  {
   "cell_type": "markdown",
   "metadata": {},
   "source": [
    "# 3. 元组"
   ]
  },
  {
   "cell_type": "markdown",
   "metadata": {},
   "source": [
    "### 3.1 标志\n",
    "\n",
    "\n",
    "- 定义：有时候你需要创建一系列不可修改的元素，元组可以满足这种需求。Python将不能修改的值称为**不可变的** ，而不可变的列表被称为**元组** 。\n",
    "\n",
    "\n",
    "### 3.2 基本操作(创建及不可变性)\n",
    "\n",
    "- 创建：使用圆括号而不是方括号。如：\n",
    "\n",
    "    dimensions = (200, 50)\n",
    "    \n",
    "    \n",
    "- 元组的元素不可修改。相比于列表，元组是更简单的数据结构。如果需要存储的一组值在程序的整个生命周期内都不变，可使用元组。"
   ]
  },
  {
   "cell_type": "markdown",
   "metadata": {},
   "source": [
    "# 4. 字符串格式化问题"
   ]
  },
  {
   "cell_type": "markdown",
   "metadata": {},
   "source": [
    "- Python 支持格式化字符串的输出 。尽管这样可能会用到非常复杂的表达式，但最基本的用法是将一个值插入到一个有字符串格式符 %s 的字符串中。\n",
    "\n",
    "- 在 Python 中，字符串格式化使用与 C 中 sprintf 函数一样的语法。"
   ]
  },
  {
   "cell_type": "code",
   "execution_count": 20,
   "metadata": {},
   "outputs": [
    {
     "name": "stdout",
     "output_type": "stream",
     "text": [
      "My name is Zara and weight is 21 kg!\n"
     ]
    }
   ],
   "source": [
    "print(\"My name is %s and weight is %d kg!\" % ('Zara', 21) )"
   ]
  },
  {
   "cell_type": "markdown",
   "metadata": {},
   "source": [
    "- python字符串格式化符号:\n",
    "\n",
    "| 符号 | 描述 |\n",
    "| ------ | ------ |\n",
    "|%c|\t 格式化字符及其ASCII码 |\n",
    "|%s|\t 格式化字符串 |\n",
    "|%d|\t 格式化整数 |\n",
    "|%u|\t 格式化无符号整型|\n",
    "|%o|\t 格式化无符号八进制数|\n",
    "|%x|\t 格式化无符号十六进制|\n",
    "|%X|\t 格式化无符号十六进制|\n",
    "|%f|\t 格式化浮点数字，可指|\n",
    "|%e|\t 用科学计数法格式化浮|\n",
    "|%E|\t 作用同%e，用科学计数|\n",
    "|%g|\t %f和%e的简写|\n",
    "|%G|\t %f 和 %E 的简写|\n",
    "|%p|\t 用十六进制数格式化变|\n",
    "\n",
    "- 格式化操作符辅助指令:\n",
    "\n",
    "| 符号 | 功能 |\n",
    "| ------ | ------ |\n",
    "|*\t|定义宽度或者小数点精度|\n",
    "|-\t|用做左对齐|\n",
    "|+\t|在正数前面显示加号( + )|\n",
    "|<sp>|\t在正数前面显示空格|\n",
    "|#  |在八进制数前面显示零('0')，在十六进制前面显示'0x'或者'0X'(取决于用的是'x'还是'X')|\n",
    "|0\t|显示的数字前面填充'0'而不是默认的空格|\n",
    "|%\t|'%%'输出一个单一的'%'|\n",
    "|(var)\t|映射变量(字典参数)|\n",
    "|m.n.\t|m 是显示的最小总宽度,n 是小数点后的位数(如果可用的话)|\n",
    "\n",
    "\n",
    "- Python2.6 开始，新增了一种格式化字符串的函数 str.format()，它增强了字符串格式化的功能。"
   ]
  }
 ],
 "metadata": {
  "kernelspec": {
   "display_name": "Python 3",
   "language": "python",
   "name": "python3"
  },
  "language_info": {
   "codemirror_mode": {
    "name": "ipython",
    "version": 3
   },
   "file_extension": ".py",
   "mimetype": "text/x-python",
   "name": "python",
   "nbconvert_exporter": "python",
   "pygments_lexer": "ipython3",
   "version": "3.7.3"
  }
 },
 "nbformat": 4,
 "nbformat_minor": 2
}
