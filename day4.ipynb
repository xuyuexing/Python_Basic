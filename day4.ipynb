{
 "cells": [
  {
   "cell_type": "markdown",
   "metadata": {},
   "source": [
    "# 1. 函数\n",
    "\n",
    "1. 关键字与函数的定义与函数返回值\n",
    "\n",
    "    - 函数代码以关键字def开始，后接函数标识符和圆括号()，函数内容以冒号开始并且缩进，最后以return结束，退出函数，如果不带返回值相当于返回none"
   ]
  },
  {
   "cell_type": "markdown",
   "metadata": {},
   "source": [
    "    def functionName (parameters):\n",
    "        '''函数文档字符串，存在__doc__中'''\n",
    "        ......  ##函数内容\n",
    "        return [expression]"
   ]
  },
  {
   "cell_type": "markdown",
   "metadata": {},
   "source": [
    "2. 参数与作用域\n",
    "\n",
    "    - 型参：定义函数时括号内的对象为型参，没有实际的意义，只是函数工作时需要的一项信息\n",
    "    - 实参：调用函数时括号内的对象为实参，是一个实际存在的对象"
   ]
  },
  {
   "cell_type": "markdown",
   "metadata": {},
   "source": [
    "    def add_num(a, b):\n",
    "        return a + b\n",
    "    num_a = 10\n",
    "    num_b = 11\n",
    "    add_num(num_a, num_b)\n",
    "    ## a 与 b 为型参，表示调用函数时需要传给函数的信息， num_a, num_b 为实参\n",
    "\n",
    "    add_num(b = num_b, a = num_a)\n",
    "    ## 以上为关键字实参的使用方式，关键字实参可以让函数调用者忽略参数的顺序\n",
    "\n",
    "    def add_num_p(a, b = 10)\n",
    "        return a + b\n",
    "    num_a = 6\n",
    "    add_num_p(num_a)\n",
    "    ## 默认参数，如上所示，当调用函数时没有传入参数 b ，b 将使用定义时的默认值参与函数运算，默认参数只能在参数列表的最后面"
   ]
  },
  {
   "cell_type": "markdown",
   "metadata": {},
   "source": [
    "- 变量作用域：变量分为全局变量与全局变量，全局变量定义在函数外，拥有全局作用域，局部变量定义在函数内部，只能在函数内部进行访问"
   ]
  },
  {
   "cell_type": "markdown",
   "metadata": {},
   "source": [
    "    num_a = 5\n",
    "    def func1():\n",
    "        num_b = 10\n",
    "        return num_a + num_b\n",
    "    ## 正确，num_a 为全局变量，在函数内部可以被访问，num_b 在 func1() 内部定义，可以被 func1() 访问\n",
    "\n",
    "    def func2():\n",
    "        return num_a - num_b\n",
    "    ## 错误，num_b 在 func1() 内部定义，只能在 func1() 内部进行访问"
   ]
  },
  {
   "cell_type": "markdown",
   "metadata": {},
   "source": [
    "# 2. 参数"
   ]
  },
  {
   "cell_type": "markdown",
   "metadata": {},
   "source": [
    "    # 打开方式（读和写）\n",
    "\n",
    "    path = '../sample.txt'\n",
    "    # 以只读方式打开文件。文件的指针将会放在文件的开头。是默认模式\n",
    "    a = open(path, 'r')\n",
    "    txt = a.read()\n",
    "\n",
    "    # 写文件 若路径所代表文件不存在则新建文件，若已存在则覆盖原文件\n",
    "    a = open(path, 'w')\n",
    "    a.write('asdasd')\n",
    "\n",
    "    #打开一个文件用于追加。若路径代表文件已存在，指针向文件的结尾。新加的内容写到文件最后。如果该文件不存在，创建新文件进行写入\n",
    "    a = open(path, 'a')\n",
    "    a.wirte('sdsadasd')"
   ]
  },
  {
   "cell_type": "markdown",
   "metadata": {},
   "source": [
    "# 3. 对CSV文件以及Excel的一些操作"
   ]
  },
  {
   "cell_type": "markdown",
   "metadata": {},
   "source": [
    "    # 对excel的操作\n",
    "\n",
    "    import xlrd\n",
    "    import xlwt\n",
    "    from datetime import date,datetime\n",
    "\n",
    "    def read_excel():\n",
    "        # 打开文件\n",
    "        workbook = xlrd.open_workbook(r'F:\\demo.xlsx')\n",
    "        # 获取所有sheet\n",
    "        print workbook.sheet_names() # [u'sheet1', u'sheet2']\n",
    "        sheet2_name = workbook.sheet_names()[1]\n",
    "\n",
    "        # 根据sheet索引或者名称获取sheet内容\n",
    "        sheet2 = workbook.sheet_by_index(1) # sheet索引从0开始\n",
    "        sheet2 = workbook.sheet_by_name('sheet2')\n",
    "\n",
    "        # sheet的名称，行数，列数\n",
    "        print sheet2.name,sheet2.nrows,sheet2.ncols\n",
    "\n",
    "        # 获取整行和整列的值（数组）\n",
    "        rows = sheet2.row_values(3) # 获取第四行内容\n",
    "        cols = sheet2.col_values(2) # 获取第三列内容\n",
    "        print rows\n",
    "        print cols\n",
    "\n",
    "        # 获取单元格内容\n",
    "        print sheet2.cell(1,0).value.encode('utf-8')\n",
    "        print sheet2.cell_value(1,0).encode('utf-8')\n",
    "        print sheet2.row(1)[0].value.encode('utf-8')\n",
    "\n",
    "        # 获取单元格内容的数据类型\n",
    "        print sheet2.cell(1,0).ctype"
   ]
  },
  {
   "cell_type": "markdown",
   "metadata": {},
   "source": [
    "    # 对csv的操作\n",
    "\n",
    "    import csv\n",
    "    ## 读取csv文件中的数据\n",
    "    with open('test.csv', 'r') as csvfile:\n",
    "        reader = csv.reader(csvfile)\n",
    "        for line in reader：\n",
    "            print(line)\n",
    "\n",
    "    ## 写入 csv 文件\n",
    "    with open('test.csv', 'w') as csvfile:\n",
    "        writer = csv.writer(csvfile)\n",
    "        writer.writerow(['index', 'a', 'b'])\n",
    "        writer.writerow([[1, 2, 3], [2, 3, 4], [3, 4, 5]])"
   ]
  },
  {
   "cell_type": "markdown",
   "metadata": {},
   "source": [
    "# 4. os模块\n",
    "\n",
    "- os 模块提供了非常丰富的方法用来处理文件和目录，该模块提供了一个统一的操作系统接口函数，该模块能在不同操作系统平台中的特定函数之间自动切换，从而实现跨平台。\n",
    "\n",
    "- 用dir()查看了一下 os 的一些属性和方法，如下："
   ]
  },
  {
   "cell_type": "code",
   "execution_count": 1,
   "metadata": {},
   "outputs": [
    {
     "data": {
      "text/plain": [
       "['DirEntry',\n",
       " 'F_OK',\n",
       " 'MutableMapping',\n",
       " 'O_APPEND',\n",
       " 'O_BINARY',\n",
       " 'O_CREAT',\n",
       " 'O_EXCL',\n",
       " 'O_NOINHERIT',\n",
       " 'O_RANDOM',\n",
       " 'O_RDONLY',\n",
       " 'O_RDWR',\n",
       " 'O_SEQUENTIAL',\n",
       " 'O_SHORT_LIVED',\n",
       " 'O_TEMPORARY',\n",
       " 'O_TEXT',\n",
       " 'O_TRUNC',\n",
       " 'O_WRONLY',\n",
       " 'P_DETACH',\n",
       " 'P_NOWAIT',\n",
       " 'P_NOWAITO',\n",
       " 'P_OVERLAY',\n",
       " 'P_WAIT',\n",
       " 'PathLike',\n",
       " 'R_OK',\n",
       " 'SEEK_CUR',\n",
       " 'SEEK_END',\n",
       " 'SEEK_SET',\n",
       " 'TMP_MAX',\n",
       " 'W_OK',\n",
       " 'X_OK',\n",
       " '_Environ',\n",
       " '__all__',\n",
       " '__builtins__',\n",
       " '__cached__',\n",
       " '__doc__',\n",
       " '__file__',\n",
       " '__loader__',\n",
       " '__name__',\n",
       " '__package__',\n",
       " '__spec__',\n",
       " '_execvpe',\n",
       " '_exists',\n",
       " '_exit',\n",
       " '_fspath',\n",
       " '_get_exports_list',\n",
       " '_putenv',\n",
       " '_unsetenv',\n",
       " '_wrap_close',\n",
       " 'abc',\n",
       " 'abort',\n",
       " 'access',\n",
       " 'altsep',\n",
       " 'chdir',\n",
       " 'chmod',\n",
       " 'close',\n",
       " 'closerange',\n",
       " 'cpu_count',\n",
       " 'curdir',\n",
       " 'defpath',\n",
       " 'device_encoding',\n",
       " 'devnull',\n",
       " 'dup',\n",
       " 'dup2',\n",
       " 'environ',\n",
       " 'error',\n",
       " 'execl',\n",
       " 'execle',\n",
       " 'execlp',\n",
       " 'execlpe',\n",
       " 'execv',\n",
       " 'execve',\n",
       " 'execvp',\n",
       " 'execvpe',\n",
       " 'extsep',\n",
       " 'fdopen',\n",
       " 'fsdecode',\n",
       " 'fsencode',\n",
       " 'fspath',\n",
       " 'fstat',\n",
       " 'fsync',\n",
       " 'ftruncate',\n",
       " 'get_exec_path',\n",
       " 'get_handle_inheritable',\n",
       " 'get_inheritable',\n",
       " 'get_terminal_size',\n",
       " 'getcwd',\n",
       " 'getcwdb',\n",
       " 'getenv',\n",
       " 'getlogin',\n",
       " 'getpid',\n",
       " 'getppid',\n",
       " 'isatty',\n",
       " 'kill',\n",
       " 'linesep',\n",
       " 'link',\n",
       " 'listdir',\n",
       " 'lseek',\n",
       " 'lstat',\n",
       " 'makedirs',\n",
       " 'mkdir',\n",
       " 'name',\n",
       " 'open',\n",
       " 'pardir',\n",
       " 'path',\n",
       " 'pathsep',\n",
       " 'pipe',\n",
       " 'popen',\n",
       " 'putenv',\n",
       " 'read',\n",
       " 'readlink',\n",
       " 'remove',\n",
       " 'removedirs',\n",
       " 'rename',\n",
       " 'renames',\n",
       " 'replace',\n",
       " 'rmdir',\n",
       " 'scandir',\n",
       " 'sep',\n",
       " 'set_handle_inheritable',\n",
       " 'set_inheritable',\n",
       " 'spawnl',\n",
       " 'spawnle',\n",
       " 'spawnv',\n",
       " 'spawnve',\n",
       " 'st',\n",
       " 'startfile',\n",
       " 'stat',\n",
       " 'stat_result',\n",
       " 'statvfs_result',\n",
       " 'strerror',\n",
       " 'supports_bytes_environ',\n",
       " 'supports_dir_fd',\n",
       " 'supports_effective_ids',\n",
       " 'supports_fd',\n",
       " 'supports_follow_symlinks',\n",
       " 'symlink',\n",
       " 'sys',\n",
       " 'system',\n",
       " 'terminal_size',\n",
       " 'times',\n",
       " 'times_result',\n",
       " 'truncate',\n",
       " 'umask',\n",
       " 'uname_result',\n",
       " 'unlink',\n",
       " 'urandom',\n",
       " 'utime',\n",
       " 'waitpid',\n",
       " 'walk',\n",
       " 'write']"
      ]
     },
     "execution_count": 1,
     "metadata": {},
     "output_type": "execute_result"
    }
   ],
   "source": [
    "import os\n",
    "dir(os)"
   ]
  },
  {
   "cell_type": "markdown",
   "metadata": {},
   "source": [
    "挑几个说一下:\n",
    "\n",
    "(1) os.path\n",
    "\n",
    "os.path 主要用于获取文件的属性\n",
    "\n",
    "    import os\n",
    "    os.path.abspath(path) ## 将文件相对路径转换为文件的绝对路径\n",
    "\n",
    "    os.path.split(path) ## 把路径分割成 dirname 和 basename，返回一个元组，如下面代码                                                                                         \n",
    "    path = 'fir/file'\n",
    "    print(os.path.split(path))\n",
    "    输出为：('fir', 'file')\n",
    "\n",
    "    os.path.join(path1[, path2[, ...]]) # 将目录与文件名合成一个路径\n",
    "    path1 = 'fir'\n",
    "    path2 = 'file'\n",
    "    print(os.path.join(path1, path2)) # 输出为：'fir/file'\n",
    "    \n",
    "(2) os.getcwd() 获取当前路径\n",
    "\n",
    "(3) os.listdir(path) 返回path指定的文件夹包含的文件或文件夹的名字的列表\n",
    "\n",
    "(4) os.mkdir(path[, mode]) 以数字mode的mode创建一个名为path的文件夹。默认的 mode 是 0777 (八进制)"
   ]
  },
  {
   "cell_type": "markdown",
   "metadata": {},
   "source": [
    "# 5. datetime 模块"
   ]
  },
  {
   "cell_type": "code",
   "execution_count": 2,
   "metadata": {},
   "outputs": [
    {
     "data": {
      "text/plain": [
       "['MAXYEAR',\n",
       " 'MINYEAR',\n",
       " '__builtins__',\n",
       " '__cached__',\n",
       " '__doc__',\n",
       " '__file__',\n",
       " '__loader__',\n",
       " '__name__',\n",
       " '__package__',\n",
       " '__spec__',\n",
       " 'date',\n",
       " 'datetime',\n",
       " 'datetime_CAPI',\n",
       " 'sys',\n",
       " 'time',\n",
       " 'timedelta',\n",
       " 'timezone',\n",
       " 'tzinfo']"
      ]
     },
     "execution_count": 2,
     "metadata": {},
     "output_type": "execute_result"
    }
   ],
   "source": [
    "import datetime\n",
    "dir(datetime)"
   ]
  },
  {
   "cell_type": "code",
   "execution_count": 3,
   "metadata": {},
   "outputs": [
    {
     "name": "stdout",
     "output_type": "stream",
     "text": [
      "2019-05-17\n",
      "2019-05-18\n",
      "2019-05-14\n"
     ]
    }
   ],
   "source": [
    "# 获取datetime\n",
    "\n",
    "import time\n",
    "datetime.datetime.now() ## 当前 datetime\n",
    "today = datetime.date.today() ## 今天的datetime\n",
    "print(today)\n",
    "tomorrow = today + datetime.timedelta(days=1) ## 获取明天\n",
    "print(tomorrow)\n",
    "three_days_ago = today - datetime.timedelta(days=3) ## 获取三天前\n",
    "print(three_days_ago)"
   ]
  },
  {
   "cell_type": "code",
   "execution_count": 4,
   "metadata": {},
   "outputs": [
    {
     "data": {
      "text/plain": [
       "datetime.datetime(2019, 5, 17, 20, 0, 38)"
      ]
     },
     "execution_count": 4,
     "metadata": {},
     "output_type": "execute_result"
    }
   ],
   "source": [
    "# datetime与别的类型的格式转换\n",
    "\n",
    "## datetime <=> string\n",
    "datetime.datetime.now().strftime(\"%Y-%m-%d %H:%M:%S\") ## datetime => string\n",
    "datetime.datetime.strptime(\"2019-05-18 19:50:10\", \"%Y-%m-%d %H:%M:%S\") ## string => datetime\n",
    "\n",
    "## datetime <=> timestamp\n",
    "timestamp = time.mktime(datetime.datetime.now().timetuple()) ## datetime => timestamp\n",
    "datetime.datetime.fromtimestamp(1558094438.0) ## timestamp => datetime"
   ]
  }
 ],
 "metadata": {
  "kernelspec": {
   "display_name": "Python 3",
   "language": "python",
   "name": "python3"
  },
  "language_info": {
   "codemirror_mode": {
    "name": "ipython",
    "version": 3
   },
   "file_extension": ".py",
   "mimetype": "text/x-python",
   "name": "python",
   "nbconvert_exporter": "python",
   "pygments_lexer": "ipython3",
   "version": "3.7.3"
  }
 },
 "nbformat": 4,
 "nbformat_minor": 2
}
